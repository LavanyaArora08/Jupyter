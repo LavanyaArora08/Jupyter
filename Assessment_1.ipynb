{
 "cells": [
  {
   "cell_type": "code",
   "execution_count": 1,
   "metadata": {},
   "outputs": [
    {
     "name": "stdout",
     "output_type": "stream",
     "text": [
      "The number of vowels in elephant is 3 \n",
      "The number of consonants in elephant is 5 \n"
     ]
    }
   ],
   "source": [
    "sen = input(\"Enter a String: \")\n",
    "def count(s):\n",
    "    count_vowels=0\n",
    "    count_consonants=0\n",
    "    for i in s:\n",
    "        if(i=='a' or i=='e' or i=='i' or i=='o' or i=='u' or i=='A' or i=='E' or i=='I' or i=='O' or i=='U'):\n",
    "            count_vowels= count_vowels+1\n",
    "        else:\n",
    "            count_consonants= count_consonants+1\n",
    "    print(f\"The number of vowels in {s} is {count_vowels} \")\n",
    "    print(f\"The number of consonants in {s} is {count_consonants} \")\n",
    "count(sen)\n"
   ]
  },
  {
   "cell_type": "code",
   "execution_count": 2,
   "metadata": {},
   "outputs": [
    {
     "name": "stdout",
     "output_type": "stream",
     "text": [
      "C\n",
      "B\n",
      "C\n",
      "Fail\n",
      "A\n"
     ]
    }
   ],
   "source": [
    "A= {\"Assgn\":60, \"Lab\":75, \"Test\":70}\n",
    "B= {\"Assgn\":80, \"Lab\":82, \"Test\":90}\n",
    "C= {\"Assgn\":75, \"Lab\":77, \"Test\":81}\n",
    "D= {\"Assgn\":30, \"Lab\":58, \"Test\":62}\n",
    "E= {\"Assgn\":92, \"Lab\":88, \"Test\":97}\n",
    "\n",
    "def grade_calc(a,l,t):\n",
    "    f_test_score = (0.1*a)+(0.7*t)+(0.2*l)\n",
    "\n",
    "    if(f_test_score>=90):\n",
    "        return 'A'\n",
    "    elif(f_test_score>=80):\n",
    "        return 'B'\n",
    "    elif(f_test_score>=70):\n",
    "        return 'C'\n",
    "    elif(f_test_score>=60):\n",
    "        return 'D'\n",
    "    else:\n",
    "        return 'Fail'\n",
    "print (grade_calc(A[\"Assgn\"],A[\"Lab\"],A[\"Test\"]))\n",
    "print (grade_calc(B[\"Assgn\"],B[\"Lab\"],B[\"Test\"]))\n",
    "print (grade_calc(C[\"Assgn\"],C[\"Lab\"],C[\"Test\"]))\n",
    "print (grade_calc(D[\"Assgn\"],D[\"Lab\"],D[\"Test\"]))\n",
    "print (grade_calc(E[\"Assgn\"],E[\"Lab\"],E[\"Test\"]))\n"
   ]
  },
  {
   "cell_type": "code",
   "execution_count": 29,
   "metadata": {},
   "outputs": [
    {
     "name": "stdout",
     "output_type": "stream",
     "text": [
      "Grass type pokemon name is Bulbasaur\n",
      "Pokemon name is Charizard and type is Fire\n"
     ]
    }
   ],
   "source": [
    "class Pokemon():\n",
    " \n",
    "    def __init__(self, name, type):\n",
    "        self.name = name\n",
    "        self.type = type\n",
    " \n",
    "    def stringPokemon(self):\n",
    "        print(f\"Pokemon name is {self.name} and type is {self.type}\")\n",
    " \n",
    "class GrassType(Pokemon):\n",
    " \n",
    "    # overrides the stringPokemon() function on 'Pokemon' class\n",
    "    def stringPokemon(self):\n",
    "        print(f\"Grass type pokemon name is {self.name}\")\n",
    " \n",
    "poke1 = GrassType('Bulbasaur', 'Grass')\n",
    "poke1.stringPokemon\n",
    "poke1.stringPokemon()\n",
    "poke2 = Pokemon('Charizard', 'Fire')\n",
    "poke2.stringPokemon\n",
    "poke2.stringPokemon()\n",
    "\n"
   ]
  },
  {
   "cell_type": "code",
   "execution_count": 31,
   "metadata": {},
   "outputs": [
    {
     "name": "stdout",
     "output_type": "stream",
     "text": [
      "[1.+0.j 2.+0.j 3.+0.j]\n"
     ]
    }
   ],
   "source": [
    "import numpy as np \n",
    "a = np.array([1, 2, 3], dtype = complex) \n",
    "print (a)"
   ]
  },
  {
   "cell_type": "code",
   "execution_count": 32,
   "metadata": {},
   "outputs": [
    {
     "name": "stdout",
     "output_type": "stream",
     "text": [
      "[200 400]\n"
     ]
    }
   ],
   "source": [
    "import numpy as np\n",
    "array1=np.array([100,200,300,400,500,600,700])\n",
    "print(array1[1:5:2])"
   ]
  },
  {
   "cell_type": "code",
   "execution_count": 35,
   "metadata": {},
   "outputs": [
    {
     "data": {
      "text/plain": [
       "array([[ True,  True],\n",
       "       [ True,  True]])"
      ]
     },
     "execution_count": 35,
     "metadata": {},
     "output_type": "execute_result"
    }
   ],
   "source": [
    "np.full((2,2), 1) == np.ones((2,2))"
   ]
  }
 ],
 "metadata": {
  "kernelspec": {
   "display_name": "Python 3",
   "language": "python",
   "name": "python3"
  },
  "language_info": {
   "codemirror_mode": {
    "name": "ipython",
    "version": 3
   },
   "file_extension": ".py",
   "mimetype": "text/x-python",
   "name": "python",
   "nbconvert_exporter": "python",
   "pygments_lexer": "ipython3",
   "version": "3.10.11"
  },
  "orig_nbformat": 4
 },
 "nbformat": 4,
 "nbformat_minor": 2
}
