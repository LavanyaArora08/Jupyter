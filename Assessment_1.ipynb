{
 "cells": [
  {
   "cell_type": "code",
   "execution_count": 1,
   "metadata": {},
   "outputs": [
    {
     "name": "stdout",
     "output_type": "stream",
     "text": [
      "The number of vowels in elephant is 3 \n",
      "The number of consonants in elephant is 5 \n"
     ]
    }
   ],
   "source": [
    "sen = input(\"Enter a String: \")\n",
    "def count(s):\n",
    "    count_vowels=0\n",
    "    count_consonants=0\n",
    "    for i in s:\n",
    "        if(i=='a' or i=='e' or i=='i' or i=='o' or i=='u' or i=='A' or i=='E' or i=='I' or i=='O' or i=='U'):\n",
    "            count_vowels= count_vowels+1\n",
    "        else:\n",
    "            count_consonants= count_consonants+1\n",
    "    print(f\"The number of vowels in {s} is {count_vowels} \")\n",
    "    print(f\"The number of consonants in {s} is {count_consonants} \")\n",
    "count(sen)\n"
   ]
  },
  {
   "cell_type": "code",
   "execution_count": 2,
   "metadata": {},
   "outputs": [
    {
     "name": "stdout",
     "output_type": "stream",
     "text": [
      "C\n",
      "B\n",
      "C\n",
      "Fail\n",
      "A\n"
     ]
    }
   ],
   "source": [
    "A= {\"Assgn\":60, \"Lab\":75, \"Test\":70}\n",
    "B= {\"Assgn\":80, \"Lab\":82, \"Test\":90}\n",
    "C= {\"Assgn\":75, \"Lab\":77, \"Test\":81}\n",
    "D= {\"Assgn\":30, \"Lab\":58, \"Test\":62}\n",
    "E= {\"Assgn\":92, \"Lab\":88, \"Test\":97}\n",
    "\n",
    "def grade_calc(a,l,t):\n",
    "    f_test_score = (0.1*a)+(0.7*t)+(0.2*l)\n",
    "\n",
    "    if(f_test_score>=90):\n",
    "        return 'A'\n",
    "    elif(f_test_score>=80):\n",
    "        return 'B'\n",
    "    elif(f_test_score>=70):\n",
    "        return 'C'\n",
    "    elif(f_test_score>=60):\n",
    "        return 'D'\n",
    "    else:\n",
    "        return 'Fail'\n",
    "print (grade_calc(A[\"Assgn\"],A[\"Lab\"],A[\"Test\"]))\n",
    "print (grade_calc(B[\"Assgn\"],B[\"Lab\"],B[\"Test\"]))\n",
    "print (grade_calc(C[\"Assgn\"],C[\"Lab\"],C[\"Test\"]))\n",
    "print (grade_calc(D[\"Assgn\"],D[\"Lab\"],D[\"Test\"]))\n",
    "print (grade_calc(E[\"Assgn\"],E[\"Lab\"],E[\"Test\"]))\n"
   ]
  },
  {
   "cell_type": "code",
   "execution_count": 3,
   "metadata": {},
   "outputs": [
    {
     "ename": "NameError",
     "evalue": "name 'count' is not defined",
     "output_type": "error",
     "traceback": [
      "\u001b[1;31m---------------------------------------------------------------------------\u001b[0m",
      "\u001b[1;31mNameError\u001b[0m                                 Traceback (most recent call last)",
      "Cell \u001b[1;32mIn[3], line 5\u001b[0m\n\u001b[0;32m      3\u001b[0m     \u001b[39mself\u001b[39m\u001b[39m.\u001b[39mcount\u001b[39m=\u001b[39m\u001b[39m5\u001b[39m\n\u001b[0;32m      4\u001b[0m     \u001b[39mself\u001b[39m\u001b[39m.\u001b[39mcount\u001b[39m=\u001b[39mcount\u001b[39m+\u001b[39m\u001b[39m1\u001b[39m\n\u001b[1;32m----> 5\u001b[0m a\u001b[39m=\u001b[39mA()\n\u001b[0;32m      6\u001b[0m \u001b[39mprint\u001b[39m(a\u001b[39m.\u001b[39mcount)\n",
      "Cell \u001b[1;32mIn[3], line 4\u001b[0m, in \u001b[0;36mA.__init__\u001b[1;34m(self)\u001b[0m\n\u001b[0;32m      2\u001b[0m \u001b[39mdef\u001b[39;00m \u001b[39m__init__\u001b[39m(\u001b[39mself\u001b[39m):\n\u001b[0;32m      3\u001b[0m   \u001b[39mself\u001b[39m\u001b[39m.\u001b[39mcount\u001b[39m=\u001b[39m\u001b[39m5\u001b[39m\n\u001b[1;32m----> 4\u001b[0m   \u001b[39mself\u001b[39m\u001b[39m.\u001b[39mcount\u001b[39m=\u001b[39mcount\u001b[39m+\u001b[39m\u001b[39m1\u001b[39m\n",
      "\u001b[1;31mNameError\u001b[0m: name 'count' is not defined"
     ]
    }
   ],
   "source": [
    "class A:\n",
    "  def __init__(self):\n",
    "    self.count=5\n",
    "    self.count=count+1\n",
    "a=A()\n",
    "print(a.count)"
   ]
  }
 ],
 "metadata": {
  "kernelspec": {
   "display_name": "Python 3",
   "language": "python",
   "name": "python3"
  },
  "language_info": {
   "codemirror_mode": {
    "name": "ipython",
    "version": 3
   },
   "file_extension": ".py",
   "mimetype": "text/x-python",
   "name": "python",
   "nbconvert_exporter": "python",
   "pygments_lexer": "ipython3",
   "version": "3.10.11"
  },
  "orig_nbformat": 4
 },
 "nbformat": 4,
 "nbformat_minor": 2
}
