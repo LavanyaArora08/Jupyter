{
 "cells": [
  {
   "cell_type": "code",
   "execution_count": null,
   "metadata": {},
   "outputs": [],
   "source": [
    "list= [1,2,5,4,'A',\"Dog\",\"Cat\",\"Lion\"]\n",
    "#to print every second element\n",
    "print(list[1: :2])\n",
    "print(list[-1::])\n",
    "st=\"apple\"\n",
    "print(st[: :-1])\n"
   ]
  },
  {
   "attachments": {},
   "cell_type": "markdown",
   "metadata": {},
   "source": [
    "retrieve dog from list. pp from apple and concatenate"
   ]
  },
  {
   "cell_type": "code",
   "execution_count": 7,
   "metadata": {},
   "outputs": [
    {
     "name": "stdout",
     "output_type": "stream",
     "text": [
      "Dogpp\n"
     ]
    }
   ],
   "source": [
    "list= [1,2,5,4,'A',\"Dog\",\"Cat\",\"Lion\"]\n",
    "st=\"apple\"\n",
    "#retrieve dog from list. pp from apple and concatenate\n",
    "print(list[5]+st[1:3])"
   ]
  },
  {
   "attachments": {},
   "cell_type": "markdown",
   "metadata": {},
   "source": [
    "\"MISSISSIPPI\"\n",
    "extract first 3 I's"
   ]
  },
  {
   "cell_type": "code",
   "execution_count": 8,
   "metadata": {},
   "outputs": [
    {
     "name": "stdout",
     "output_type": "stream",
     "text": [
      "SSI\n"
     ]
    }
   ],
   "source": [
    "s=\"MISSISSIPPI\"\n",
    "#extract and print the first 3 I's\n"
   ]
  },
  {
   "cell_type": "code",
   "execution_count": 5,
   "metadata": {},
   "outputs": [
    {
     "name": "stdout",
     "output_type": "stream",
     "text": [
      "[1, 2, 'apple', 'orange', 'potato', 'cow']\n"
     ]
    }
   ],
   "source": [
    "list= [[1,2],[\"apple\",\"orange\"],[\"potato\",\"cow\"]]\n",
    "#convert nested list to a single list\n",
    "print(list[0]+list[1]+list[2])"
   ]
  },
  {
   "cell_type": "code",
   "execution_count": null,
   "metadata": {},
   "outputs": [],
   "source": [
    "list=[1,2,4,7,8]\n",
    "#pick each element from the list and write out in words\n",
    "#1-one, 2-two, 4-four, 7-seven, 8-eight\n",
    "#using dictionary to store the mapping\n",
    "dict={1:\"one\",2:\"two\",4:\"four\",7:\"seven\",8:\"eight\"}\n",
    "for i in list:\n",
    "    print(dict[i])\n"
   ]
  },
  {
   "cell_type": "code",
   "execution_count": 7,
   "metadata": {},
   "outputs": [
    {
     "name": "stdout",
     "output_type": "stream",
     "text": [
      "one\n",
      "two\n",
      "four\n",
      "seven\n",
      "eight\n"
     ]
    }
   ],
   "source": [
    "list=[1,2,4,7,8]\n",
    "for i in list:\n",
    "    if(i==1):\n",
    "        print(\"one\")\n",
    "    elif(i==2):\n",
    "        print(\"two\")\n",
    "    elif(i==4):\n",
    "        print(\"four\")\n",
    "    elif(i==7):\n",
    "        print(\"seven\")\n",
    "    elif(i==8):\n",
    "        print(\"eight\")\n"
   ]
  },
  {
   "cell_type": "code",
   "execution_count": 8,
   "metadata": {},
   "outputs": [
    {
     "name": "stdout",
     "output_type": "stream",
     "text": [
      "noits\n"
     ]
    }
   ],
   "source": [
    "s1='practice python list questions'\n",
    "print(s1[-2:-7:-1])"
   ]
  },
  {
   "cell_type": "code",
   "execution_count": 16,
   "metadata": {},
   "outputs": [
    {
     "name": "stdout",
     "output_type": "stream",
     "text": [
      "67\n"
     ]
    }
   ],
   "source": [
    "list=[23,12,45,67,55]\n",
    "#find the max element without using max function\n",
    "max=0\n",
    "for i in list:\n",
    "    if(i>max):\n",
    "        max=i\n",
    "print(max)\n"
   ]
  },
  {
   "cell_type": "code",
   "execution_count": null,
   "metadata": {},
   "outputs": [],
   "source": [
    "#input 10 numbers from user, sqaure them, append them in a list and then finally the pairs should be added to the list\n",
    "for i in range(10):\n",
    "    list=int(input(\"Enter a number\"))\n",
    "    list.append(list[i]**2)\n",
    "print(list)"
   ]
  },
  {
   "cell_type": "code",
   "execution_count": 1,
   "metadata": {},
   "outputs": [
    {
     "name": "stdout",
     "output_type": "stream",
     "text": [
      "15\n"
     ]
    }
   ],
   "source": [
    "#sum of elements in a set\n",
    "set={1,2,3,4,5}\n",
    "sum=0\n",
    "for i in set:\n",
    "    sum=sum+i\n",
    "print(sum)\n"
   ]
  },
  {
   "cell_type": "code",
   "execution_count": null,
   "metadata": {},
   "outputs": [],
   "source": [
    "#sum of elements in a 3x3 matrix \n",
    "matrix=[[1,2,3],[4,5,6],[7,8,9]]\n",
    "sum=0\n",
    "for i in range(3):\n",
    "    for j in range(3):\n",
    "        sum=sum+matrix[i][j]\n",
    "print(sum)\n"
   ]
  },
  {
   "cell_type": "code",
   "execution_count": 4,
   "metadata": {},
   "outputs": [
    {
     "name": "stdout",
     "output_type": "stream",
     "text": [
      "[[1, 2, 3], [4, 5, 6], [7, 8, 9]]\n",
      "45\n"
     ]
    }
   ],
   "source": [
    "#sum of elements in a 3x3 matrix take iutput from user\n",
    "matrix=[]\n",
    "for i in range(3):\n",
    "    list=[]\n",
    "    for j in range(3):\n",
    "        list.append(int(input(\"Enter a number\")))\n",
    "    matrix.append(list)\n",
    "print(matrix)\n",
    "sum=0\n",
    "for i in range(3):\n",
    "    for j in range(3):\n",
    "        sum=sum+matrix[i][j]\n",
    "print(sum)\n"
   ]
  },
  {
   "cell_type": "code",
   "execution_count": null,
   "metadata": {},
   "outputs": [],
   "source": [
    "#remove elemets from a list which are not even. take input from user\n",
    "list=[]\n",
    "for i in range(10):\n",
    "    list.append(int(input(\"Enter a number\")))\n",
    "print(list)\n",
    "for i in list:\n",
    "    if(i%2!=0):\n",
    "        list.remove(i)\n",
    "print(list)\n"
   ]
  },
  {
   "cell_type": "code",
   "execution_count": 10,
   "metadata": {},
   "outputs": [
    {
     "name": "stdout",
     "output_type": "stream",
     "text": [
      "[1, 2, 3, 4, 5, 6, 7, 8, 9, 9]\n",
      "2\n",
      "4\n",
      "6\n",
      "8\n"
     ]
    }
   ],
   "source": [
    "#pop and print elements from a list which are even\n",
    "list=[]\n",
    "for i in range(10):\n",
    "    list.append(int(input(\"Enter a number\")))\n",
    "print(list)\n",
    "for i in list:\n",
    "    if(i%2==0):\n",
    "        print(list.pop(list.index(i)))\n"
   ]
  },
  {
   "cell_type": "code",
   "execution_count": 12,
   "metadata": {},
   "outputs": [
    {
     "name": "stdout",
     "output_type": "stream",
     "text": [
      "4\n",
      "Positive\n"
     ]
    }
   ],
   "source": [
    "#check if entered number is positive or negative or zero\n",
    "num=int(input(\"Enter a number\"))\n",
    "print(num)\n",
    "if(num>0):\n",
    "    print(\"Positive\")\n",
    "elif(num<0):\n",
    "    print(\"Negative\")\n",
    "else:\n",
    "    print(\"Zero\")"
   ]
  },
  {
   "cell_type": "code",
   "execution_count": null,
   "metadata": {},
   "outputs": [],
   "source": [
    "#nested if else\n",
    "num=int(input(\"Enter a number\"))\n",
    "print(num)\n",
    "if(num>=0):\n",
    "    if(num==0):\n",
    "        print(\"Zero\")\n",
    "    else:\n",
    "        print(\"Positive\")\n",
    "else:\n",
    "    print(\"Negative\")"
   ]
  },
  {
   "cell_type": "code",
   "execution_count": 13,
   "metadata": {},
   "outputs": [
    {
     "name": "stdout",
     "output_type": "stream",
     "text": [
      "1\n",
      "2\n",
      "3\n",
      "4\n",
      "5\n",
      "6\n",
      "7\n",
      "8\n",
      "9\n",
      "10\n"
     ]
    }
   ],
   "source": [
    "#print first n natural numbers using while loop\n",
    "n=int(input(\"Enter a number\"))\n",
    "i=1\n",
    "while(i<=n):\n",
    "    print(i)\n",
    "    i=i+1\n"
   ]
  },
  {
   "cell_type": "code",
   "execution_count": 17,
   "metadata": {},
   "outputs": [
    {
     "name": "stdout",
     "output_type": "stream",
     "text": [
      "12\n",
      "78\n"
     ]
    }
   ],
   "source": [
    "#sum of forst n natural numbers using while loop\n",
    "n=int(input(\"Enter a number\"))\n",
    "print(n)\n",
    "i=1\n",
    "sum=0\n",
    "while(i<=n):\n",
    "    sum=sum+i\n",
    "    i=i+1\n",
    "print(sum)\n"
   ]
  },
  {
   "cell_type": "code",
   "execution_count": 18,
   "metadata": {},
   "outputs": [
    {
     "name": "stdout",
     "output_type": "stream",
     "text": [
      "[1, 2, 3, 4, 5]\n",
      "[5, 4, 3, 2, 1]\n"
     ]
    }
   ],
   "source": [
    "#reverse a list using reverse function\n",
    "list=[1,2,3,4,5]\n",
    "print(list)\n",
    "list.reverse()\n",
    "print(list)\n"
   ]
  },
  {
   "cell_type": "code",
   "execution_count": 25,
   "metadata": {},
   "outputs": [
    {
     "name": "stdout",
     "output_type": "stream",
     "text": [
      "[1, 2, 3, 4, 5]\n",
      "<list_reverseiterator object at 0x000001A77A0C2470>\n"
     ]
    }
   ],
   "source": [
    "nums=[1,2,3,4,5]\n",
    "print(nums)\n",
    "print(reversed(nums))"
   ]
  },
  {
   "cell_type": "code",
   "execution_count": 26,
   "metadata": {},
   "outputs": [
    {
     "name": "stdout",
     "output_type": "stream",
     "text": [
      "['papaya', 'apple', 'orange', 'banana', 'grapes']\n",
      "papaya\n",
      "apple\n",
      "banana\n",
      "grapes\n"
     ]
    }
   ],
   "source": [
    "list=['papaya', 'apple', 'orange', 'banana', 'grapes']\n",
    "print(list)\n",
    "for i in list:\n",
    "    if (i=='orange'):\n",
    "        continue\n",
    "    print(i)\n"
   ]
  },
  {
   "cell_type": "code",
   "execution_count": 27,
   "metadata": {},
   "outputs": [
    {
     "name": "stdout",
     "output_type": "stream",
     "text": [
      "['papaya', 'apple', 'orange', 'banana', 'grapes']\n",
      "papaya\n",
      "apple\n"
     ]
    }
   ],
   "source": [
    "list=['papaya', 'apple', 'orange', 'banana', 'grapes']\n",
    "print(list)\n",
    "for i in list:\n",
    "    if (i=='orange'):\n",
    "        break\n",
    "    print(i)"
   ]
  },
  {
   "cell_type": "code",
   "execution_count": 10,
   "metadata": {},
   "outputs": [
    {
     "name": "stdout",
     "output_type": "stream",
     "text": [
      "Potato\n",
      "POTATO\n",
      "potato\n",
      "Potato\n",
      "True\n",
      "['potato']\n",
      "potato\n",
      "potato\n",
      "potato\n",
      "potato\n",
      "False\n",
      "True\n",
      "True\n",
      "True\n",
      "['Potato', ' apple']\n"
     ]
    }
   ],
   "source": [
    "s=\"potato\"\n",
    "print(s.title())\n",
    "print(s.upper())\n",
    "print(s.lower())\n",
    "print(s.capitalize())\n",
    "print(s.isalnum())\n",
    "print(s.split())\n",
    "print(s.strip())\n",
    "print(s.lstrip())\n",
    "print(s.rstrip())\n",
    "print(s.strip('\\n'))\n",
    "print(s.isdigit())\n",
    "print(s.isalpha())\n",
    "print(s.endswith(\"o\"))\n",
    "print(s.startswith(\"p\"))\n",
    "s1=\"Potato, apple\"\n",
    "print(s1.split(\",\"))\n",
    "\n",
    "\n"
   ]
  },
  {
   "cell_type": "code",
   "execution_count": 11,
   "metadata": {},
   "outputs": [
    {
     "name": "stdout",
     "output_type": "stream",
     "text": [
      "[2, 4, 6]\n"
     ]
    }
   ],
   "source": [
    "l=[1,2,3,4,5,6,7]\n",
    "l1=[ ]\n",
    "for i in l:\n",
    "    if i%2==0:\n",
    "        l1.append(i)\n",
    "print(l1)"
   ]
  },
  {
   "cell_type": "code",
   "execution_count": 12,
   "metadata": {},
   "outputs": [
    {
     "name": "stdout",
     "output_type": "stream",
     "text": [
      "[2, 4, 6]\n"
     ]
    }
   ],
   "source": [
    "#can also be written as\n",
    "#using list comprehension\n",
    "l=[1,2,3,4,5,6,7]\n",
    "l1=[i for i in l if i%2==0]\n",
    "print(l1)"
   ]
  },
  {
   "cell_type": "code",
   "execution_count": 2,
   "metadata": {},
   "outputs": [
    {
     "name": "stdout",
     "output_type": "stream",
     "text": [
      "[1, 4, 9, 16, 25, 36, 49, 64, 81, 100]\n"
     ]
    }
   ],
   "source": [
    "#first ten perfect squares using list comprehension\n",
    "l=[i**2 for i in range(1,11)]\n",
    "print(l)"
   ]
  },
  {
   "cell_type": "code",
   "execution_count": 4,
   "metadata": {},
   "outputs": [
    {
     "name": "stdout",
     "output_type": "stream",
     "text": [
      "['apple', 'cherry', 'grapes']\n"
     ]
    }
   ],
   "source": [
    "l=[\"apple\",\"cherry\",\"grapes\",\"papaya\"]\n",
    "#create new list with fruit names whose length is atleast 4 and the name contains \"e\"\n",
    "l1=[i for i in l if len(i)>=4 and \"e\" in i]\n",
    "print(l1)\n"
   ]
  },
  {
   "cell_type": "code",
   "execution_count": 9,
   "metadata": {},
   "outputs": [
    {
     "name": "stdout",
     "output_type": "stream",
     "text": [
      "['APPLE', 'CHERRY', 'GRAPES', 'PAPAYA']\n"
     ]
    }
   ],
   "source": [
    "l=[\"apple\",\"cherry\",\"grapes\",\"papaya\"]\n",
    "#print list in upper case using list comprehension\n",
    "l1=[i.upper() for i in l]\n",
    "print(l1)"
   ]
  },
  {
   "cell_type": "code",
   "execution_count": 12,
   "metadata": {},
   "outputs": [
    {
     "name": "stdout",
     "output_type": "stream",
     "text": [
      "['orange', 'orange', 'banana', 'orange', 'orange']\n"
     ]
    }
   ],
   "source": [
    "l=[\"apple\",\"cherry\",\"banana\",\"grapes\",\"papaya\"]\n",
    "l1=[i if i==\"banana\" else \"orange\" for i in l]\n",
    "print(l1)"
   ]
  },
  {
   "cell_type": "code",
   "execution_count": 14,
   "metadata": {},
   "outputs": [
    {
     "name": "stdout",
     "output_type": "stream",
     "text": [
      "[27, 38, 50, 51, 99, 61, 48, 60, 6]\n"
     ]
    }
   ],
   "source": [
    "x=[22,33,45,50,98,60,43,59,1]\n",
    "l1=[i+1 if i>45 else i+5 for i in x]\n",
    "print(l1)"
   ]
  },
  {
   "cell_type": "code",
   "execution_count": 17,
   "metadata": {},
   "outputs": [
    {
     "name": "stdout",
     "output_type": "stream",
     "text": [
      "[(1, 4), (2, 5), (3, 6)]\n"
     ]
    }
   ],
   "source": [
    "t1=(1,2,3)\n",
    "t2=(4,5,6)\n",
    "t3=list(zip(t1,t2))\n",
    "print(t3)"
   ]
  },
  {
   "cell_type": "code",
   "execution_count": 8,
   "metadata": {},
   "outputs": [
    {
     "name": "stdout",
     "output_type": "stream",
     "text": [
      "The length of the hypotenuse is:  13.0\n"
     ]
    }
   ],
   "source": [
    "#Write a program to calculate the hypotenuses of a right-angled triangle.\n",
    "import math\n",
    "side1=int(input(\"Enter the length of side1: \"))\n",
    "side2=int(input(\"Enter the length of side2: \"))\n",
    "hypotenuse=math.sqrt(side1**2+side2**2)\n",
    "print(\"The length of the hypotenuse is: \",hypotenuse)\n"
   ]
  },
  {
   "cell_type": "code",
   "execution_count": null,
   "metadata": {},
   "outputs": [
    {
     "ename": "",
     "evalue": "",
     "output_type": "error",
     "traceback": [
      "\u001b[1;31mRunning cells with 'c:\\Program Files\\WindowsApps\\PythonSoftwareFoundation.Python.3.10_3.10.2800.0_x64__qbz5n2kfra8p0\\python3.10.exe' requires the ipykernel package.\n",
      "\u001b[1;31mRun the following command to install 'ipykernel' into the Python environment. \n",
      "\u001b[1;31mCommand: '\"c:/Program Files/WindowsApps/PythonSoftwareFoundation.Python.3.10_3.10.2800.0_x64__qbz5n2kfra8p0/python3.10.exe\" -m pip install ipykernel -U --user --force-reinstall'"
     ]
    }
   ],
   "source": [
    "#Write a program to print the following pattern\n",
    "#*\n",
    "#**\n",
    "#***\n",
    "#****\n",
    "#*****\n",
    "#****\n",
    "#***\n",
    "#**\n",
    "#*\n",
    "for i in range(1,6):\n",
    "    print(\"*\"*i)\n",
    "for i in range(4,0,-1):\n",
    "    print(\"*\"*i)\n",
    "#alternatively\n",
    "for i in range(1,10):\n",
    "    if(i<=5):\n",
    "        print(\"*\"*i)\n",
    "    else:\n",
    "        print(\"*\"*(10-i))\n",
    "        "
   ]
  },
  {
   "cell_type": "code",
   "execution_count": 3,
   "metadata": {},
   "outputs": [
    {
     "name": "stdout",
     "output_type": "stream",
     "text": [
      "1450701160976\n",
      "1450705354096\n"
     ]
    }
   ],
   "source": [
    "s=\"string\"\n",
    "a=s\n",
    "def add():\n",
    "    a=10\n",
    "    print(id(a))\n",
    "add()\n",
    "print(id(a))"
   ]
  },
  {
   "cell_type": "code",
   "execution_count": 1,
   "metadata": {},
   "outputs": [
    {
     "name": "stdout",
     "output_type": "stream",
     "text": [
      "120\n"
     ]
    }
   ],
   "source": [
    "#program to find factoiral using function\n",
    "def factorial(n):\n",
    "    if(n==0):\n",
    "        return 1\n",
    "    else:\n",
    "        return n*factorial(n-1)\n",
    "n=int(input(\"Enter a number\"))\n",
    "print(factorial(n))\n"
   ]
  },
  {
   "cell_type": "code",
   "execution_count": 27,
   "metadata": {},
   "outputs": [
    {
     "ename": "TypeError",
     "evalue": "unsupported operand type(s) for +: 'int' and 'tuple'",
     "output_type": "error",
     "traceback": [
      "\u001b[1;31m---------------------------------------------------------------------------\u001b[0m",
      "\u001b[1;31mTypeError\u001b[0m                                 Traceback (most recent call last)",
      "Cell \u001b[1;32mIn[27], line 11\u001b[0m\n\u001b[0;32m      9\u001b[0m \u001b[39mfor\u001b[39;00m i \u001b[39min\u001b[39;00m \u001b[39mrange\u001b[39m(n):\n\u001b[0;32m     10\u001b[0m     a\u001b[39m.\u001b[39mappend(\u001b[39mint\u001b[39m(\u001b[39minput\u001b[39m(\u001b[39m\"\u001b[39m\u001b[39mEnter a number\u001b[39m\u001b[39m\"\u001b[39m)))\n\u001b[1;32m---> 11\u001b[0m add(\u001b[39m*\u001b[39;49ma)\n",
      "Cell \u001b[1;32mIn[27], line 5\u001b[0m, in \u001b[0;36madd\u001b[1;34m(a, *a1)\u001b[0m\n\u001b[0;32m      3\u001b[0m \u001b[39msum\u001b[39m\u001b[39m=\u001b[39ma\n\u001b[0;32m      4\u001b[0m \u001b[39mfor\u001b[39;00m i \u001b[39min\u001b[39;00m a1:\n\u001b[1;32m----> 5\u001b[0m     \u001b[39msum\u001b[39m\u001b[39m=\u001b[39m\u001b[39msum\u001b[39;49m\u001b[39m+\u001b[39;49ma1\n\u001b[0;32m      6\u001b[0m \u001b[39mprint\u001b[39m(\u001b[39msum\u001b[39m)\n",
      "\u001b[1;31mTypeError\u001b[0m: unsupported operand type(s) for +: 'int' and 'tuple'"
     ]
    }
   ],
   "source": [
    "#program to add variable length arguments using function using user input also take number of arguments as input.\n",
    "\n"
   ]
  },
  {
   "cell_type": "code",
   "execution_count": 29,
   "metadata": {},
   "outputs": [
    {
     "name": "stdout",
     "output_type": "stream",
     "text": [
      "rohit's date of birth is 08/08/2004\n"
     ]
    }
   ],
   "source": [
    "#Print the following using string formatting method.‘ Rohit’ s date of birth is 12\\05\\1999. Take user input\n",
    "name=input(\"Enter your name\")\n",
    "dob=input(\"Enter your date of birth\")\n",
    "print(\"{}'s date of birth is {}\".format(name,dob))\n"
   ]
  },
  {
   "cell_type": "code",
   "execution_count": 30,
   "metadata": {},
   "outputs": [
    {
     "name": "stdout",
     "output_type": "stream",
     "text": [
      "George (Woody) Washington\n"
     ]
    }
   ],
   "source": [
    "#Declare three variables, consisting of your first name, your last name and Nickname. Write aprogram that prints out your first name, then your nickname in parenthesis and then your lastname.Example output : George ( woody ) Washington.\n",
    "#take user input\n",
    "fn=input(\"Enter your first name\")\n",
    "ln=input(\"Enter your last name\")\n",
    "nickname=input(\"Enter your nickname\")\n",
    "print(\"{} ({}) {}\".format(fn,nickname,ln))\n"
   ]
  },
  {
   "cell_type": "code",
   "execution_count": null,
   "metadata": {},
   "outputs": [],
   "source": [
    "#Declare and assign values to suitable variables and print in the following way :NAME : NIKUNJ BANSALSAP ID : 500069944DATE OF BIRTH : 13 Oct 1999ADDRESS : UPESBidholi CampusPincode : 248007Programme : AI & MLSemester : 2\n",
    "#take user input\n",
    "name=input(\"Enter your name\")\n",
    "sap=input(\"Enter your sap id\")\n",
    "dob=input(\"Enter your date of birth\")\n",
    "address=input(\"Enter your address\")\n",
    "pincode=input(\"Enter your pincode\")\n",
    "programme=input(\"Enter your programme\")\n",
    "semester=input(\"Enter your semester\")\n",
    "print(\"NAME : {}\\nSAP ID : {}\\nDATE OF BIRTH : {}\\nADDRESS : {}\\nPincode : {}\\nProgramme : {}\\nSemester : {}\".format(name,sap,dob,address,pincode,programme,semester))"
   ]
  },
  {
   "cell_type": "code",
   "execution_count": null,
   "metadata": {},
   "outputs": [],
   "source": [
    "#Write a program to compute the length of the hypotenuse (c) of a right triangle usingPythagoras theorem.\n",
    "import math\n",
    "side1=int(input(\"Enter the length of side1: \"))\n",
    "side2=int(input(\"Enter the length of side2: \"))\n",
    "hypotenuse=math.sqrt(side1**2+side2**2)\n",
    "print(\"The length of the hypotenuse is: \",hypotenuse)"
   ]
  },
  {
   "cell_type": "code",
   "execution_count": null,
   "metadata": {},
   "outputs": [],
   "source": [
    "#Write a program to find area of triangle when length of sides are given\n",
    "import math\n",
    "side1=int(input(\"Enter the length of side1: \"))\n",
    "side2=int(input(\"Enter the length of side2: \"))\n",
    "side3=int(input(\"Enter the length of side3: \"))\n",
    "s=(side1+side2+side3)/2\n",
    "area=math.sqrt(s*(s-side1)*(s-side2)*(s-side3))\n",
    "print(\"The area of the triangle is: \",area)\n"
   ]
  },
  {
   "cell_type": "code",
   "execution_count": null,
   "metadata": {},
   "outputs": [],
   "source": [
    "#Write a program to convert given seconds into hours, minutes and remaining seconds\n",
    "sec=int(input(\"Enter the number of seconds: \"))\n",
    "hours=sec//3600\n",
    "min=(sec%3600)//60\n",
    "rem_sec=(sec%3600)%60\n",
    "print(\"The time is {}:{}:{}\".format(hours,min,rem_sec))"
   ]
  },
  {
   "cell_type": "code",
   "execution_count": null,
   "metadata": {},
   "outputs": [],
   "source": [
    "#Write a program to swap two numbers without taking additional variable.\n",
    "a=int(input(\"Enter the value of a: \"))\n",
    "b=int(input(\"Enter the value of b: \"))\n",
    "a,b=b,a\n",
    "print(\"The value of a is: \",a)\n",
    "print(\"The value of b is: \",b)\n"
   ]
  },
  {
   "cell_type": "code",
   "execution_count": 1,
   "metadata": {},
   "outputs": [
    {
     "name": "stdout",
     "output_type": "stream",
     "text": [
      "Truth table for the bitwise AND operator (&):\n",
      "x\ty\tx & y\n",
      "---------------\n",
      "0\t0\t0\n",
      "0\t1\t0\n",
      "1\t0\t0\n",
      "1\t1\t1\n",
      "\n",
      "Truth table for the bitwise OR operator (|):\n",
      "x\ty\tx | y\n",
      "---------------\n",
      "0\t0\t0\n",
      "0\t1\t1\n",
      "1\t0\t1\n",
      "1\t1\t1\n",
      "\n",
      "Truth table for the bitwise XOR operator (^):\n",
      "x\ty\tx ^ y\n",
      "---------------\n",
      "0\t0\t0\n",
      "0\t1\t1\n",
      "1\t0\t1\n",
      "1\t1\t0\n"
     ]
    }
   ],
   "source": [
    "#Write a program to print truth table for bitwise operators( & , | and ^ operators)\n",
    "def print_truth_table(operator):\n",
    "    print(\"x\\ty\\tx \" + operator + \" y\")\n",
    "    print(\"-\" * 15)\n",
    "    for x in [0, 1]:\n",
    "        for y in [0, 1]:\n",
    "            result = eval(f\"{x} {operator} {y}\")\n",
    "            print(f\"{x}\\t{y}\\t{result}\")\n",
    "\n",
    "# print the truth tables for the three operators\n",
    "print(\"Truth table for the bitwise AND operator (&):\")\n",
    "print_truth_table(\"&\")\n",
    "print()\n",
    "\n",
    "print(\"Truth table for the bitwise OR operator (|):\")\n",
    "print_truth_table(\"|\")\n",
    "print()\n",
    "\n",
    "print(\"Truth table for the bitwise XOR operator (^):\")\n",
    "print_truth_table(\"^\")\n"
   ]
  },
  {
   "cell_type": "code",
   "execution_count": 6,
   "metadata": {},
   "outputs": [
    {
     "name": "stdout",
     "output_type": "stream",
     "text": [
      "The left shift value is:  92\n",
      "The right shift value is:  5\n"
     ]
    }
   ],
   "source": [
    "#Write a program to find left shift and right shift values of a given number\n",
    "num=int(input(\"Enter the number: \"))\n",
    "left_shift=num<<2\n",
    "right_shift=num>>2\n",
    "print(\"The left shift value is: \",left_shift)\n",
    "print(\"The right shift value is: \",right_shift)\n"
   ]
  },
  {
   "cell_type": "code",
   "execution_count": 2,
   "metadata": {},
   "outputs": [
    {
     "name": "stdout",
     "output_type": "stream",
     "text": [
      "The number is in the list\n"
     ]
    }
   ],
   "source": [
    "#Using membership operator find whether a given number is in sequence (10,20,56,78,89)\n",
    "num=int(input(\"Enter the number: \"))\n",
    "l=[10,20,56,78,89]\n",
    "if num in l:\n",
    "    print(\"The number is in the list\")\n",
    "else:\n",
    "    print(\"The number is not in the list\")\n",
    "    "
   ]
  },
  {
   "cell_type": "code",
   "execution_count": 3,
   "metadata": {},
   "outputs": [
    {
     "name": "stdout",
     "output_type": "stream",
     "text": [
      "9 5 2 1 16807 10 1.4\n"
     ]
    }
   ],
   "source": [
    "#Write the output of the following programw = 2x = 5y = 7a = w + yb = y - wc = y % xd = y // we = y ** wf = w * xg = y / xprint(a,b,c,d,e,f,g)\n",
    "w = 2\n",
    "x = 5\n",
    "y = 7\n",
    "a = w + y\n",
    "b = y - w\n",
    "c = y % x\n",
    "d = y // x\n",
    "e = y ** x\n",
    "f = w * x\n",
    "g = y / x\n",
    "print(a,b,c,d,e,f,g)"
   ]
  },
  {
   "cell_type": "code",
   "execution_count": 8,
   "metadata": {},
   "outputs": [
    {
     "name": "stdout",
     "output_type": "stream",
     "text": [
      "The number of times the second number can be divided into the first number is:  57\n"
     ]
    }
   ],
   "source": [
    "#Write a program that asks the user to enter two integers. Have the programoutput how many times the second number can be divided into the first number.For example if the first number entered was 23 and the second number enteredwas 4 the program should report 5 times (i.e. the fractional bit is ignored)\n",
    "num1=int(input(\"Enter the first number: \"))\n",
    "num2=int(input(\"Enter the second number: \"))\n",
    "print(\"The number of times the second number can be divided into the first number is: \",num1//num2)"
   ]
  },
  {
   "cell_type": "code",
   "execution_count": 9,
   "metadata": {},
   "outputs": [
    {
     "name": "stdout",
     "output_type": "stream",
     "text": [
      "The number is not power of 2\n"
     ]
    }
   ],
   "source": [
    "#WAP to check whether the given number is power of 2 or not\n",
    "num=int(input(\"Enter the number: \"))\n",
    "if num&(num-1)==0:\n",
    "    print(\"The number is power of 2\")\n",
    "else:\n",
    "    print(\"The number is not power of 2\")\n",
    "    "
   ]
  },
  {
   "cell_type": "code",
   "execution_count": 1,
   "metadata": {},
   "outputs": [
    {
     "name": "stdout",
     "output_type": "stream",
     "text": [
      "Fibonacci sequence:\n",
      "0\n",
      "1\n",
      "1\n",
      "2\n",
      "3\n",
      "5\n",
      "8\n",
      "13\n",
      "21\n",
      "34\n"
     ]
    }
   ],
   "source": [
    "def fibo(n):\n",
    "    if n <= 1:\n",
    "        return n\n",
    "    else:\n",
    "        return(fibo(n-1) + fibo(n-2))\n",
    "n = 10\n",
    "if n <= 0:\n",
    "    print(\"enter a nnumber\")\n",
    "else:\n",
    "    print(\"Fibonacci sequence:\")\n",
    "    for i in range n :\n",
    "        print(fibo(i))"
   ]
  },
  {
   "cell_type": "code",
   "execution_count": 1,
   "metadata": {},
   "outputs": [
    {
     "name": "stdout",
     "output_type": "stream",
     "text": [
      "True\n"
     ]
    }
   ],
   "source": [
    "class A:\n",
    "  pass\n",
    "class B(A):\n",
    "  pass\n",
    "obj=B()\n",
    "print(isinstance(obj,A))"
   ]
  },
  {
   "cell_type": "code",
   "execution_count": 6,
   "metadata": {},
   "outputs": [
    {
     "data": {
      "text/plain": [
       "'Sir Arthur'"
      ]
     },
     "execution_count": 6,
     "metadata": {},
     "output_type": "execute_result"
    }
   ],
   "source": [
    "def writer():\n",
    "    title ='Sir'\n",
    "    name =(lambda x:title + ' ' + x)\n",
    "    return name\n",
    "who = writer()\n",
    "who('Arthur')"
   ]
  },
  {
   "cell_type": "code",
   "execution_count": 7,
   "metadata": {},
   "outputs": [
    {
     "name": "stdout",
     "output_type": "stream",
     "text": [
      "1 2 45 60 () {}\n",
      "None\n"
     ]
    }
   ],
   "source": [
    "def unpacking(a, b, c=45, d=60, *args, **kwargs):\n",
    "   print(a, b, c, d, args, kwargs)\n",
    "print(unpacking(1,2))"
   ]
  },
  {
   "cell_type": "code",
   "execution_count": 8,
   "metadata": {},
   "outputs": [
    {
     "name": "stdout",
     "output_type": "stream",
     "text": [
      "emp\n",
      "salary\n"
     ]
    }
   ],
   "source": [
    "def display(**kwargs):\n",
    "\n",
    "   for i in kwargs:\n",
    "\n",
    "       print(i)\n",
    "\n",
    "display(emp=\"Kelly\", salary=9000)"
   ]
  },
  {
   "cell_type": "code",
   "execution_count": 9,
   "metadata": {},
   "outputs": [
    {
     "name": "stdout",
     "output_type": "stream",
     "text": [
      "hello ('world',) {'world': 'world'}\n",
      "None\n"
     ]
    }
   ],
   "source": [
    "greeting = lambda x, *args, **kwargs: print(x, args, kwargs)\n",
    "\n",
    "print(greeting('hello', 'world', world='world'))\n"
   ]
  },
  {
   "cell_type": "code",
   "execution_count": 10,
   "metadata": {},
   "outputs": [
    {
     "name": "stdout",
     "output_type": "stream",
     "text": [
      "-4 -3 -2 -1 0 \n"
     ]
    }
   ],
   "source": [
    "output = \"\"\n",
    "x = -5\n",
    "while x < 0:\n",
    "    x = x + 1\n",
    "    output = output + str(x) + \" \"\n",
    "print(output)"
   ]
  },
  {
   "cell_type": "code",
   "execution_count": 12,
   "metadata": {},
   "outputs": [
    {
     "name": "stdout",
     "output_type": "stream",
     "text": [
      "True\n",
      "True\n"
     ]
    }
   ],
   "source": [
    "x = 276\n",
    "\n",
    "y = 276\n",
    "\n",
    "print(x == y)\n",
    "\n",
    "print(x is not y)"
   ]
  },
  {
   "cell_type": "code",
   "execution_count": 14,
   "metadata": {},
   "outputs": [
    {
     "name": "stdout",
     "output_type": "stream",
     "text": [
      "0\n"
     ]
    }
   ],
   "source": [
    "print(5-7%2-4 and 12)"
   ]
  }
 ],
 "metadata": {
  "kernelspec": {
   "display_name": "Python 3",
   "language": "python",
   "name": "python3"
  },
  "language_info": {
   "codemirror_mode": {
    "name": "ipython",
    "version": 3
   },
   "file_extension": ".py",
   "mimetype": "text/x-python",
   "name": "python",
   "nbconvert_exporter": "python",
   "pygments_lexer": "ipython3",
   "version": "3.10.11"
  },
  "orig_nbformat": 4,
  "vscode": {
   "interpreter": {
    "hash": "781f655580259c241e327a73af8e11047011e021c540c85c12852d5a201d19fc"
   }
  }
 },
 "nbformat": 4,
 "nbformat_minor": 2
}
